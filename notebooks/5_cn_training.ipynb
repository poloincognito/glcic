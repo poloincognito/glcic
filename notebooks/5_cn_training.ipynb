{
 "cells": [
  {
   "cell_type": "markdown",
   "metadata": {},
   "source": [
    "# Purpose\n",
    "This notebook tests the naive training of the the completion network."
   ]
  },
  {
   "cell_type": "markdown",
   "metadata": {},
   "source": [
    "# Import"
   ]
  },
  {
   "cell_type": "code",
   "execution_count": 1,
   "metadata": {},
   "outputs": [],
   "source": [
    "import torch\n",
    "import torchvision\n",
    "\n",
    "from glic.networks.completion_network import CompletionNetwork\n",
    "from glic.training.cn_training import train_cn"
   ]
  },
  {
   "cell_type": "markdown",
   "metadata": {},
   "source": [
    "# Train"
   ]
  },
  {
   "cell_type": "code",
   "execution_count": 2,
   "metadata": {},
   "outputs": [],
   "source": [
    "# load the dataset\n",
    "train_dataset_dir = '../data/train/'\n",
    "train_dataset = torchvision.datasets.ImageFolder(root=train_dataset_dir, transform=torchvision.transforms.ToTensor())\n",
    "train_dataloader = torch.utils.data.DataLoader(train_dataset, batch_size=4, shuffle=False)"
   ]
  },
  {
   "cell_type": "code",
   "execution_count": 3,
   "metadata": {},
   "outputs": [],
   "source": [
    "from glic.utils import list_files"
   ]
  },
  {
   "cell_type": "code",
   "execution_count": 4,
   "metadata": {},
   "outputs": [],
   "source": [
    "checkpoint = \"amphitheater/00000005.jpg\""
   ]
  },
  {
   "cell_type": "code",
   "execution_count": 8,
   "metadata": {},
   "outputs": [
    {
     "data": {
      "text/plain": [
       "25004"
      ]
     },
     "execution_count": 8,
     "metadata": {},
     "output_type": "execute_result"
    }
   ],
   "source": [
    "list_files('../data/train/').index(checkpoint)"
   ]
  },
  {
   "cell_type": "code",
   "execution_count": 6,
   "metadata": {},
   "outputs": [],
   "source": [
    "import os\n",
    "def get_dataloader(dir: str, resume_path: str, batch_size):\n",
    "    resume_index = os.listdir(train_dataset_dir).index(resume_path)\n",
    "    # return dataloader\n",
    "    pass"
   ]
  },
  {
   "cell_type": "code",
   "execution_count": 7,
   "metadata": {},
   "outputs": [
    {
     "ename": "SyntaxError",
     "evalue": "invalid syntax (875272085.py, line 1)",
     "output_type": "error",
     "traceback": [
      "\u001b[1;36m  Cell \u001b[1;32mIn[7], line 1\u001b[1;36m\u001b[0m\n\u001b[1;33m    dataloader = get_dataloader(train_dataset_dir, \"amphitheater/00000005.jpg\", batch_size=)\u001b[0m\n\u001b[1;37m                                                                                           ^\u001b[0m\n\u001b[1;31mSyntaxError\u001b[0m\u001b[1;31m:\u001b[0m invalid syntax\n"
     ]
    }
   ],
   "source": [
    "dataloader = get_dataloader(train_dataset_dir, \"amphitheater/00000005.jpg\", batch_size=)"
   ]
  },
  {
   "cell_type": "code",
   "execution_count": null,
   "metadata": {},
   "outputs": [],
   "source": [
    "# others\n",
    "cn = CompletionNetwork()\n",
    "optimizer = torch.optim.Adadelta(cn.parameters(), lr=2e-4)\n",
    "num_batch = 10\n",
    "replacement_val = torch.rand(3)"
   ]
  },
  {
   "cell_type": "code",
   "execution_count": 4,
   "metadata": {},
   "outputs": [
    {
     "name": "stdout",
     "output_type": "stream",
     "text": [
      "\n",
      "### BATCH 0 ###\n",
      "loss: 2229.089599609375\n",
      "\n",
      "### BATCH 1 ###\n",
      "loss: 2465.78759765625\n",
      "\n",
      "### BATCH 2 ###\n",
      "loss: 2301.607666015625\n",
      "\n",
      "### BATCH 3 ###\n",
      "loss: 3246.95654296875\n",
      "\n",
      "### BATCH 4 ###\n",
      "loss: 2866.7548828125\n",
      "\n",
      "### BATCH 5 ###\n",
      "loss: 3330.05859375\n",
      "\n",
      "### BATCH 6 ###\n",
      "loss: 2269.8427734375\n",
      "\n",
      "### BATCH 7 ###\n",
      "loss: 2663.375244140625\n",
      "\n",
      "### BATCH 8 ###\n",
      "loss: 2629.3564453125\n",
      "\n",
      "### BATCH 9 ###\n",
      "loss: 3134.853515625\n"
     ]
    }
   ],
   "source": [
    "# train\n",
    "_ = train_cn(cn, optimizer, train_dataloader, num_batch, replacement_val)"
   ]
  }
 ],
 "metadata": {
  "kernelspec": {
   "display_name": "myenv",
   "language": "python",
   "name": "python3"
  },
  "language_info": {
   "codemirror_mode": {
    "name": "ipython",
    "version": 3
   },
   "file_extension": ".py",
   "mimetype": "text/x-python",
   "name": "python",
   "nbconvert_exporter": "python",
   "pygments_lexer": "ipython3",
   "version": "3.10.9"
  },
  "orig_nbformat": 4
 },
 "nbformat": 4,
 "nbformat_minor": 2
}
