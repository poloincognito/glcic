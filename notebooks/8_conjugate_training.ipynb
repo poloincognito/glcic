{
 "cells": [
  {
   "cell_type": "markdown",
   "metadata": {},
   "source": [
    "# Import"
   ]
  },
  {
   "cell_type": "code",
   "execution_count": 1,
   "metadata": {},
   "outputs": [],
   "source": [
    "import torch\n",
    "import torchvision\n",
    "\n",
    "from glcic.networks.completion_network import CompletionNetwork\n",
    "from glcic.networks.discriminators import Discriminator\n",
    "from glcic.trainers.conjugate_trainer import train\n",
    "from glcic.utils import *"
   ]
  },
  {
   "cell_type": "markdown",
   "metadata": {},
   "source": [
    "# Prepare"
   ]
  },
  {
   "cell_type": "code",
   "execution_count": 2,
   "metadata": {},
   "outputs": [],
   "source": [
    "# load the dataset\n",
    "train_dataset_dir = '../data/train/'\n",
    "train_dataset = torchvision.datasets.ImageFolder(root=train_dataset_dir, transform=torchvision.transforms.ToTensor())\n",
    "train_dataloader = get_dataloader(train_dataset_dir, train_dataset_dir+\"barn/00001008.jpg\", batch_size=2)"
   ]
  },
  {
   "cell_type": "code",
   "execution_count": 3,
   "metadata": {},
   "outputs": [],
   "source": [
    "# others\n",
    "cn = CompletionNetwork().cuda()\n",
    "cn_optimizer = torch.optim.Adadelta(cn.parameters())\n",
    "\n",
    "discriminator = Discriminator().cuda()\n",
    "discriminator_optimizer = torch.optim.Adadelta(discriminator.parameters())\n",
    "\n",
    "num_batch = 10\n",
    "replacement_val = torch.tensor([0.5062325495504219, 0.4255871700324652, 0.38299278586700136])"
   ]
  },
  {
   "cell_type": "markdown",
   "metadata": {},
   "source": [
    "# Test"
   ]
  },
  {
   "cell_type": "code",
   "execution_count": 4,
   "metadata": {},
   "outputs": [
    {
     "name": "stdout",
     "output_type": "stream",
     "text": [
      "\n",
      "### BATCH 1/10 ###\n"
     ]
    },
    {
     "ename": "AssertionError",
     "evalue": "",
     "output_type": "error",
     "traceback": [
      "\u001b[1;31m---------------------------------------------------------------------------\u001b[0m",
      "\u001b[1;31mAssertionError\u001b[0m                            Traceback (most recent call last)",
      "\u001b[1;32mc:\\Users\\Paul\\Documents\\Projets\\glcic\\notebooks\\8_conjugate_training.ipynb Cell 7\u001b[0m line \u001b[0;36m2\n\u001b[0;32m      <a href='vscode-notebook-cell:/c%3A/Users/Paul/Documents/Projets/glcic/notebooks/8_conjugate_training.ipynb#X13sZmlsZQ%3D%3D?line=0'>1</a>\u001b[0m \u001b[39m# conjugate training\u001b[39;00m\n\u001b[1;32m----> <a href='vscode-notebook-cell:/c%3A/Users/Paul/Documents/Projets/glcic/notebooks/8_conjugate_training.ipynb#X13sZmlsZQ%3D%3D?line=1'>2</a>\u001b[0m train(\n\u001b[0;32m      <a href='vscode-notebook-cell:/c%3A/Users/Paul/Documents/Projets/glcic/notebooks/8_conjugate_training.ipynb#X13sZmlsZQ%3D%3D?line=2'>3</a>\u001b[0m     cn,\n\u001b[0;32m      <a href='vscode-notebook-cell:/c%3A/Users/Paul/Documents/Projets/glcic/notebooks/8_conjugate_training.ipynb#X13sZmlsZQ%3D%3D?line=3'>4</a>\u001b[0m     discriminator,\n\u001b[0;32m      <a href='vscode-notebook-cell:/c%3A/Users/Paul/Documents/Projets/glcic/notebooks/8_conjugate_training.ipynb#X13sZmlsZQ%3D%3D?line=4'>5</a>\u001b[0m     cn_optimizer,\n\u001b[0;32m      <a href='vscode-notebook-cell:/c%3A/Users/Paul/Documents/Projets/glcic/notebooks/8_conjugate_training.ipynb#X13sZmlsZQ%3D%3D?line=5'>6</a>\u001b[0m     discriminator_optimizer,\n\u001b[0;32m      <a href='vscode-notebook-cell:/c%3A/Users/Paul/Documents/Projets/glcic/notebooks/8_conjugate_training.ipynb#X13sZmlsZQ%3D%3D?line=6'>7</a>\u001b[0m     train_dataloader,\n\u001b[0;32m      <a href='vscode-notebook-cell:/c%3A/Users/Paul/Documents/Projets/glcic/notebooks/8_conjugate_training.ipynb#X13sZmlsZQ%3D%3D?line=7'>8</a>\u001b[0m     num_batch,\n\u001b[0;32m      <a href='vscode-notebook-cell:/c%3A/Users/Paul/Documents/Projets/glcic/notebooks/8_conjugate_training.ipynb#X13sZmlsZQ%3D%3D?line=8'>9</a>\u001b[0m     replacement_val,\n\u001b[0;32m     <a href='vscode-notebook-cell:/c%3A/Users/Paul/Documents/Projets/glcic/notebooks/8_conjugate_training.ipynb#X13sZmlsZQ%3D%3D?line=9'>10</a>\u001b[0m     )\n",
      "File \u001b[1;32mc:\\users\\paul\\documents\\projets\\glcic\\lib\\glcic\\trainers\\conjugate_trainer.py:106\u001b[0m, in \u001b[0;36mtrain\u001b[1;34m(cn, discriminator, cn_optimizer, discriminator_optimizer, dataloader, num_batch, replacement_val, info)\u001b[0m\n\u001b[0;32m    104\u001b[0m mse_bce_grad_norm \u001b[39m=\u001b[39m get_model_grad_norm(cn)\n\u001b[0;32m    105\u001b[0m ratio \u001b[39m=\u001b[39m mse_bce_grad_norm \u001b[39m/\u001b[39m mse_grad_norm  \u001b[39m# approximately 1+1/alpha\u001b[39;00m\n\u001b[1;32m--> 106\u001b[0m \u001b[39massert\u001b[39;00m ratio \u001b[39m>\u001b[39m \u001b[39m1.0\u001b[39m\n\u001b[0;32m    107\u001b[0m alpha \u001b[39m=\u001b[39m update_moving_average(alpha, \u001b[39m1\u001b[39m \u001b[39m/\u001b[39m (ratio \u001b[39m-\u001b[39m \u001b[39m1\u001b[39m), \u001b[39m0.99\u001b[39m)\n\u001b[0;32m    108\u001b[0m \u001b[39mif\u001b[39;00m info:\n",
      "\u001b[1;31mAssertionError\u001b[0m: "
     ]
    }
   ],
   "source": [
    "# conjugate training\n",
    "train(\n",
    "    cn,\n",
    "    discriminator,\n",
    "    cn_optimizer,\n",
    "    discriminator_optimizer,\n",
    "    train_dataloader,\n",
    "    num_batch,\n",
    "    replacement_val,\n",
    "    )"
   ]
  }
 ],
 "metadata": {
  "kernelspec": {
   "display_name": "myenv",
   "language": "python",
   "name": "python3"
  },
  "language_info": {
   "codemirror_mode": {
    "name": "ipython",
    "version": 3
   },
   "file_extension": ".py",
   "mimetype": "text/x-python",
   "name": "python",
   "nbconvert_exporter": "python",
   "pygments_lexer": "ipython3",
   "version": "3.10.9"
  },
  "orig_nbformat": 4
 },
 "nbformat": 4,
 "nbformat_minor": 2
}
