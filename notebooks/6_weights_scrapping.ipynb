{
 "cells": [
  {
   "cell_type": "markdown",
   "metadata": {},
   "source": [
    "# Purpose\n",
    "This notebooks adapts the weights scrapped online to my implementation architecture."
   ]
  },
  {
   "cell_type": "markdown",
   "metadata": {},
   "source": [
    "# Import"
   ]
  },
  {
   "cell_type": "code",
   "execution_count": 1,
   "metadata": {},
   "outputs": [],
   "source": [
    "import torch\n",
    "from glic.networks.completion_network import CompletionNetwork"
   ]
  },
  {
   "cell_type": "markdown",
   "metadata": {},
   "source": [
    "# Compare the architectures"
   ]
  },
  {
   "cell_type": "code",
   "execution_count": 2,
   "metadata": {},
   "outputs": [],
   "source": [
    "# my implementation CN architecure\n",
    "my_cn = CompletionNetwork()\n",
    "my_cn_state_dict = my_cn.state_dict()"
   ]
  },
  {
   "cell_type": "code",
   "execution_count": 3,
   "metadata": {},
   "outputs": [],
   "source": [
    "# # download the weight\n",
    "# trained_cn_weights_address = \"http://iizuka.cs.tsukuba.ac.jp/data/completionnet_places2.t7\"\n",
    "# import wget\n",
    "# wget.download(trained_cn_weights_address,\"../logs/scrapped_weights/trained_cn_weights.t7\")"
   ]
  },
  {
   "cell_type": "markdown",
   "metadata": {},
   "source": [
    "Weights were converted using https://github.com/clcarwin/convert_torch_to_pytorch  \n",
    "*The github project had to be forked to account for SpacialDilatedConvolution*"
   ]
  },
  {
   "cell_type": "code",
   "execution_count": 4,
   "metadata": {},
   "outputs": [],
   "source": [
    "# load the converted weights\n",
    "scrapped_weights = torch.load(\"../logs/scrapped_weights/trained_cn_weights.pth\")"
   ]
  },
  {
   "cell_type": "markdown",
   "metadata": {},
   "source": [
    "# Convert\n",
    "Map by hand !"
   ]
  },
  {
   "cell_type": "code",
   "execution_count": 17,
   "metadata": {},
   "outputs": [],
   "source": [
    "def get_next_key(ordered_dict,key):\n",
    "    \"\"\"This function returns the next key in the ordered_dict.\"\"\"\n",
    "    next = list(ordered_dict.keys())[list(ordered_dict.keys()).index(key) + 1]\n",
    "    return next"
   ]
  },
  {
   "cell_type": "code",
   "execution_count": 18,
   "metadata": {},
   "outputs": [],
   "source": [
    "from collections import OrderedDict\n",
    "\n",
    "# prime\n",
    "map_scrapped_to_my_cn = OrderedDict()\n",
    "current_my_cn_key = list(my_cn_state_dict.keys())[0]\n",
    "\n",
    "# iterative\n",
    "for key in scrapped_weights:\n",
    "    next_key = get_next_key(my_cn_state_dict,current_my_cn_key)\n",
    "    # compare to next layer\n",
    "    if scrapped_weights[key].shape == my_cn_state_dict[next_key]:\n",
    "        map_scrapped_to_my_cn[key] = next_key\n",
    "        current_my_cn_key = next_key\n",
    "    else:\n",
    "        map_scrapped_to_my_cn[key] = current_my_cn_key"
   ]
  }
 ],
 "metadata": {
  "kernelspec": {
   "display_name": "myenv",
   "language": "python",
   "name": "python3"
  },
  "language_info": {
   "codemirror_mode": {
    "name": "ipython",
    "version": 3
   },
   "file_extension": ".py",
   "mimetype": "text/x-python",
   "name": "python",
   "nbconvert_exporter": "python",
   "pygments_lexer": "ipython3",
   "version": "3.10.9"
  },
  "orig_nbformat": 4
 },
 "nbformat": 4,
 "nbformat_minor": 2
}
