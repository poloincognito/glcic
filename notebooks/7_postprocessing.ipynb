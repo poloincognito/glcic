{
 "cells": [
  {
   "cell_type": "markdown",
   "metadata": {},
   "source": [
    "# Import"
   ]
  },
  {
   "cell_type": "code",
   "execution_count": 1,
   "metadata": {},
   "outputs": [],
   "source": [
    "import torch\n",
    "import torchvision\n",
    "\n",
    "from glcic.networks.completion_network import CompletionNetwork\n",
    "from glcic.utils import postprocess"
   ]
  },
  {
   "cell_type": "code",
   "execution_count": null,
   "metadata": {},
   "outputs": [],
   "source": [
    "# load the dataset\n",
    "train_dataset_dir = '../data/train/'\n",
    "train_dataset = torchvision.datasets.ImageFolder(root=train_dataset_dir, transform=torchvision.transforms.ToTensor())\n",
    "train_dataloader = torch.utils.data.DataLoader(train_dataset, batch_size=4, shuffle=False)\n",
    "\n",
    "# first batch\n",
    "batch = next(iter(train_dataloader))[0]"
   ]
  },
  {
   "cell_type": "code",
   "execution_count": null,
   "metadata": {},
   "outputs": [],
   "source": [
    "# apply the mask\n",
    "from glcic.utils import *\n",
    "\n",
    "lm,em = generate_mask(4)\n",
    "replacement_val = torch.rand(3)\n",
    "masked_batch = apply_mask(batch,em,replacement_val)"
   ]
  },
  {
   "cell_type": "code",
   "execution_count": null,
   "metadata": {},
   "outputs": [
    {
     "name": "stdout",
     "output_type": "stream",
     "text": [
      "Load: load_state dict from ../logs/models/cn_scrapped_weights\n"
     ]
    },
    {
     "ename": "NameError",
     "evalue": "name 'tensor' is not defined",
     "output_type": "error",
     "traceback": [
      "\u001b[1;31m---------------------------------------------------------------------------\u001b[0m",
      "\u001b[1;31mNameError\u001b[0m                                 Traceback (most recent call last)",
      "\u001b[1;32mc:\\Users\\Paul\\Documents\\Projets\\glcic\\notebooks\\7_postprocessing.ipynb Cell 5\u001b[0m line \u001b[0;36m7\n\u001b[0;32m      <a href='vscode-notebook-cell:/c%3A/Users/Paul/Documents/Projets/glcic/notebooks/7_postprocessing.ipynb#X10sZmlsZQ%3D%3D?line=4'>5</a>\u001b[0m _em \u001b[39m=\u001b[39m em[:,\u001b[39mNone\u001b[39;00m,:,:]\n\u001b[0;32m      <a href='vscode-notebook-cell:/c%3A/Users/Paul/Documents/Projets/glcic/notebooks/7_postprocessing.ipynb#X10sZmlsZQ%3D%3D?line=5'>6</a>\u001b[0m completed \u001b[39m=\u001b[39m cn(torch\u001b[39m.\u001b[39mcat((masked_batch,_em),dim\u001b[39m=\u001b[39m\u001b[39m1\u001b[39m))\n\u001b[1;32m----> <a href='vscode-notebook-cell:/c%3A/Users/Paul/Documents/Projets/glcic/notebooks/7_postprocessing.ipynb#X10sZmlsZQ%3D%3D?line=6'>7</a>\u001b[0m postprocessed \u001b[39m=\u001b[39m postprocess(completed,em,lm)\n",
      "File \u001b[1;32mc:\\users\\paul\\documents\\projets\\glcic\\lib\\glcic\\utils.py:230\u001b[0m, in \u001b[0;36mpostprocess\u001b[1;34m(batch, mask, mask_coords)\u001b[0m\n\u001b[0;32m    226\u001b[0m preprocessed \u001b[39m=\u001b[39m []\n\u001b[0;32m    228\u001b[0m \u001b[39mfor\u001b[39;00m idx, image \u001b[39min\u001b[39;00m \u001b[39menumerate\u001b[39m(batch):\n\u001b[0;32m    229\u001b[0m     \u001b[39m# prepare inputs\u001b[39;00m\n\u001b[1;32m--> 230\u001b[0m     x \u001b[39m=\u001b[39m np\u001b[39m.\u001b[39mmoveaxis(tensor\u001b[39m.\u001b[39mnumpy(), \u001b[39m0\u001b[39m, \u001b[39m2\u001b[39m)\n\u001b[0;32m    231\u001b[0m     x \u001b[39m=\u001b[39m (\u001b[39m255\u001b[39m \u001b[39m*\u001b[39m x)\u001b[39m.\u001b[39mastype(\u001b[39m\"\u001b[39m\u001b[39muint8\u001b[39m\u001b[39m\"\u001b[39m)\n\u001b[0;32m    233\u001b[0m     \u001b[39m# Telea ffm completion\u001b[39;00m\n",
      "\u001b[1;31mNameError\u001b[0m: name 'tensor' is not defined"
     ]
    }
   ],
   "source": [
    "# completion network\n",
    "cn = CompletionNetwork()\n",
    "cn.load('../logs/models/cn_scrapped_weights')\n",
    "cn.eval()\n",
    "_em = em[:,None,:,:]\n",
    "completed = cn(torch.cat((masked_batch,_em),dim=1))\n",
    "postprocessed = postprocess(completed,em,lm)"
   ]
  },
  {
   "cell_type": "code",
   "execution_count": null,
   "metadata": {},
   "outputs": [],
   "source": [
    "import matplotlib.pyplot as plt\n",
    "fig, axes = plt.subplots(1, 5, figsize=(10, 15))\n",
    "\n",
    "# display the original image\n",
    "axes[0].imshow(batch[0].permute(1,2,0))\n",
    "axes[0].set_title('Original')\n",
    "\n",
    "# display the masked image\n",
    "axes[1].imshow(masked_batch[0].permute(1,2,0))\n",
    "axes[1].set_title('Masked')\n",
    "\n",
    "# display the local masked image\n",
    "h,h2,w,w2 = lm[0]\n",
    "axes[2].imshow(masked_batch[0][:,h:h2,w:w2].permute(1,2,0))\n",
    "axes[2].set_title('Local masked')\n",
    "\n",
    "# completed\n",
    "axes[3].imshow(completed[0].permute(1,2,0))\n",
    "axes[3].set_title('Completed')\n",
    "\n",
    "# post-processed\n",
    "axes[4].imshow(postprocessed[0].permute(1,2,0))\n",
    "axes[4].set_title('Post-processed')"
   ]
  }
 ],
 "metadata": {
  "kernelspec": {
   "display_name": "myenv",
   "language": "python",
   "name": "python3"
  },
  "language_info": {
   "codemirror_mode": {
    "name": "ipython",
    "version": 3
   },
   "file_extension": ".py",
   "mimetype": "text/x-python",
   "name": "python",
   "nbconvert_exporter": "python",
   "pygments_lexer": "ipython3",
   "version": "3.10.9"
  },
  "orig_nbformat": 4
 },
 "nbformat": 4,
 "nbformat_minor": 2
}
