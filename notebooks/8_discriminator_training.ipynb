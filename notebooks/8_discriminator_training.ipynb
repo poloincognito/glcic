{
 "cells": [
  {
   "cell_type": "markdown",
   "metadata": {},
   "source": [
    "# Import"
   ]
  },
  {
   "cell_type": "code",
   "execution_count": 1,
   "metadata": {},
   "outputs": [],
   "source": [
    "import pandas as pd\n",
    "import torch\n",
    "\n",
    "from glcic.networks.discriminators import *\n",
    "from glcic.utils import *"
   ]
  },
  {
   "cell_type": "code",
   "execution_count": 2,
   "metadata": {},
   "outputs": [],
   "source": [
    "# load the dataset\n",
    "batch_size = 4\n",
    "train_dataset_dir = '../data/train/'\n",
    "train_dataset = torchvision.datasets.ImageFolder(root=train_dataset_dir, transform=torchvision.transforms.ToTensor())\n",
    "train_dataloader = torch.utils.data.DataLoader(train_dataset, batch_size=batch_size, shuffle=False)"
   ]
  },
  {
   "cell_type": "code",
   "execution_count": 3,
   "metadata": {},
   "outputs": [
    {
     "name": "stdout",
     "output_type": "stream",
     "text": [
      "Load: load_state dict from ../logs/models/cn_scrapped_weights\n"
     ]
    }
   ],
   "source": [
    "# initialize all networks\n",
    "discriminator = Discriminator()\n",
    "\n",
    "cn = CompletionNetwork()\n",
    "cn.load(\"../logs/models/cn_scrapped_weights\")\n",
    "\n",
    "optimizer = torch.optim.Adadelta(discriminator.parameters())"
   ]
  },
  {
   "cell_type": "markdown",
   "metadata": {},
   "source": [
    "# Loads"
   ]
  },
  {
   "cell_type": "code",
   "execution_count": 4,
   "metadata": {},
   "outputs": [],
   "source": [
    "num_batch = 10\n",
    "replacement_val = torch.tensor([0.5062325495504219, 0.4255871700324652, 0.38299278586700136])"
   ]
  },
  {
   "cell_type": "code",
   "execution_count": 5,
   "metadata": {},
   "outputs": [],
   "source": [
    "# last training session\n",
    "loss_list, batch, resume_path, replacement_val = load_checkpoint(\n",
    "        \"../logs/phase2_checkpoints/\", discriminator, optimizer\n",
    "    )"
   ]
  },
  {
   "cell_type": "code",
   "execution_count": 6,
   "metadata": {},
   "outputs": [
    {
     "ename": "NameError",
     "evalue": "name 'train_discriminator' is not defined",
     "output_type": "error",
     "traceback": [
      "\u001b[1;31m---------------------------------------------------------------------------\u001b[0m",
      "\u001b[1;31mNameError\u001b[0m                                 Traceback (most recent call last)",
      "\u001b[1;32mc:\\Users\\Paul\\Documents\\Projets\\glcic\\notebooks\\8_discriminator_training.ipynb Cell 8\u001b[0m line \u001b[0;36m2\n\u001b[0;32m      <a href='vscode-notebook-cell:/c%3A/Users/Paul/Documents/Projets/glcic/notebooks/8_discriminator_training.ipynb#W3sZmlsZQ%3D%3D?line=0'>1</a>\u001b[0m \u001b[39m# train\u001b[39;00m\n\u001b[1;32m----> <a href='vscode-notebook-cell:/c%3A/Users/Paul/Documents/Projets/glcic/notebooks/8_discriminator_training.ipynb#W3sZmlsZQ%3D%3D?line=1'>2</a>\u001b[0m loss_list \u001b[39m=\u001b[39m train_discriminator(discriminator, cn,\n\u001b[0;32m      <a href='vscode-notebook-cell:/c%3A/Users/Paul/Documents/Projets/glcic/notebooks/8_discriminator_training.ipynb#W3sZmlsZQ%3D%3D?line=2'>3</a>\u001b[0m     optimizer,train_dataloader,\n\u001b[0;32m      <a href='vscode-notebook-cell:/c%3A/Users/Paul/Documents/Projets/glcic/notebooks/8_discriminator_training.ipynb#W3sZmlsZQ%3D%3D?line=3'>4</a>\u001b[0m     num_batch, replacement_val)\n",
      "\u001b[1;31mNameError\u001b[0m: name 'train_discriminator' is not defined"
     ]
    }
   ],
   "source": [
    "# train\n",
    "loss_list = train_discriminator(discriminator, cn,\n",
    "    optimizer,train_dataloader,\n",
    "    num_batch, replacement_val)"
   ]
  },
  {
   "cell_type": "code",
   "execution_count": null,
   "metadata": {},
   "outputs": [],
   "source": []
  }
 ],
 "metadata": {
  "kernelspec": {
   "display_name": "myenv",
   "language": "python",
   "name": "python3"
  },
  "language_info": {
   "codemirror_mode": {
    "name": "ipython",
    "version": 3
   },
   "file_extension": ".py",
   "mimetype": "text/x-python",
   "name": "python",
   "nbconvert_exporter": "python",
   "pygments_lexer": "ipython3",
   "version": "3.10.9"
  },
  "orig_nbformat": 4
 },
 "nbformat": 4,
 "nbformat_minor": 2
}
