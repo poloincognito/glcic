{
 "cells": [
  {
   "cell_type": "markdown",
   "metadata": {},
   "source": [
    "# Import"
   ]
  },
  {
   "cell_type": "code",
   "execution_count": 1,
   "metadata": {},
   "outputs": [],
   "source": [
    "import pandas as pd\n",
    "import torch\n",
    "\n",
    "from glcic.networks.discriminators import *\n",
    "from glcic.utils import *"
   ]
  },
  {
   "cell_type": "code",
   "execution_count": 2,
   "metadata": {},
   "outputs": [],
   "source": [
    "# load the dataset\n",
    "batch_size = 4\n",
    "train_dataset_dir = '../data/train/'\n",
    "train_dataset = torchvision.datasets.ImageFolder(root=train_dataset_dir, transform=torchvision.transforms.ToTensor())\n",
    "train_dataloader = torch.utils.data.DataLoader(train_dataset, batch_size=batch_size, shuffle=False)"
   ]
  },
  {
   "cell_type": "code",
   "execution_count": 3,
   "metadata": {},
   "outputs": [
    {
     "name": "stdout",
     "output_type": "stream",
     "text": [
      "Load: load_state dict from ../logs/models/cn_scrapped_weights\n"
     ]
    }
   ],
   "source": [
    "# initialize networks\n",
    "discriminator = Discriminator()\n",
    "cn = CompletionNetwork()\n",
    "cn.load(\"../logs/models/cn_scrapped_weights\")\n",
    "optimizer = torch.optim.Adadelta(discriminator.parameters())"
   ]
  },
  {
   "cell_type": "markdown",
   "metadata": {},
   "source": [
    "# Loads"
   ]
  },
  {
   "cell_type": "code",
   "execution_count": 4,
   "metadata": {},
   "outputs": [],
   "source": [
    "# hyperparameters\n",
    "num_batch = 10\n",
    "replacement_val = torch.tensor([0.5062325495504219, 0.4255871700324652, 0.38299278586700136])"
   ]
  },
  {
   "cell_type": "code",
   "execution_count": 5,
   "metadata": {},
   "outputs": [],
   "source": [
    "# last training session\n",
    "loss_list, batch, resume_path, replacement_val = load_checkpoint(\n",
    "        \"../logs/phase2_checkpoints/\", discriminator, optimizer\n",
    "    )"
   ]
  },
  {
   "cell_type": "code",
   "execution_count": 7,
   "metadata": {},
   "outputs": [
    {
     "name": "stdout",
     "output_type": "stream",
     "text": [
      "\n",
      "### BATCH 1/10 ###\n",
      "loss: 0.0 for non-completed images, 2.388148186149852e-11 for completed images\n",
      "\n",
      "### BATCH 2/10 ###\n",
      "loss: 0.0 for non-completed images, 8.944811918606445e-15 for completed images\n",
      "\n",
      "### BATCH 3/10 ###\n",
      "loss: 0.0 for non-completed images, 1.2461713605471658e-10 for completed images\n",
      "\n",
      "### BATCH 4/10 ###\n",
      "loss: 0.0 for non-completed images, 1.5563951194508263e-07 for completed images\n",
      "\n",
      "### BATCH 5/10 ###\n",
      "loss: 0.0 for non-completed images, 1.4428162558033364e-06 for completed images\n",
      "\n",
      "### BATCH 6/10 ###\n",
      "loss: 0.0 for non-completed images, 8.079596713894688e-11 for completed images\n",
      "\n",
      "### BATCH 7/10 ###\n",
      "loss: 0.0 for non-completed images, 1.9746452194734088e-13 for completed images\n",
      "\n",
      "### BATCH 8/10 ###\n",
      "loss: 0.0 for non-completed images, 4.3681232242409607e-11 for completed images\n",
      "\n",
      "### BATCH 9/10 ###\n",
      "loss: 0.0 for non-completed images, 1.217329839361958e-12 for completed images\n",
      "\n",
      "### BATCH 10/10 ###\n",
      "loss: 0.0 for non-completed images, 4.421854438163564e-09 for completed images\n"
     ]
    }
   ],
   "source": [
    "# train\n",
    "from glcic.trainers.discriminator_trainer import train_discriminator\n",
    "loss_list = train_discriminator(discriminator, cn,\n",
    "    optimizer,train_dataloader,\n",
    "    num_batch, replacement_val)"
   ]
  },
  {
   "cell_type": "code",
   "execution_count": 20,
   "metadata": {},
   "outputs": [],
   "source": [
    "# batch prediction\n",
    "lm,em = generate_mask(4)\n",
    "next_batch = next(iter(train_dataloader))[0]\n",
    "preds = discriminator(next_batch,lm)"
   ]
  }
 ],
 "metadata": {
  "kernelspec": {
   "display_name": "myenv",
   "language": "python",
   "name": "python3"
  },
  "language_info": {
   "codemirror_mode": {
    "name": "ipython",
    "version": 3
   },
   "file_extension": ".py",
   "mimetype": "text/x-python",
   "name": "python",
   "nbconvert_exporter": "python",
   "pygments_lexer": "ipython3",
   "version": "3.10.9"
  },
  "orig_nbformat": 4
 },
 "nbformat": 4,
 "nbformat_minor": 2
}
