{
 "cells": [
  {
   "cell_type": "markdown",
   "metadata": {},
   "source": [
    "# Import"
   ]
  },
  {
   "cell_type": "code",
   "execution_count": 1,
   "metadata": {},
   "outputs": [],
   "source": [
    "import torch\n",
    "import torchvision\n",
    "\n",
    "from glcic.networks.completion_network import CompletionNetwork\n",
    "from glcic.networks.discriminators import Discriminator\n",
    "from glcic.trainers.conjugate_trainer import train\n",
    "from glcic.utils import *"
   ]
  },
  {
   "cell_type": "markdown",
   "metadata": {},
   "source": [
    "# Prepare"
   ]
  },
  {
   "cell_type": "code",
   "execution_count": 2,
   "metadata": {},
   "outputs": [],
   "source": [
    "# load the dataset\n",
    "train_dataset_dir = '../data/train/'\n",
    "train_dataset = torchvision.datasets.ImageFolder(root=train_dataset_dir, transform=torchvision.transforms.ToTensor())\n",
    "train_dataloader = get_dataloader(train_dataset_dir, train_dataset_dir+\"barn/00001008.jpg\", batch_size=48)"
   ]
  },
  {
   "cell_type": "code",
   "execution_count": 3,
   "metadata": {},
   "outputs": [
    {
     "name": "stdout",
     "output_type": "stream",
     "text": [
      "Load: load_state dict from ../logs/models/cn_scrapped_weights\n"
     ]
    }
   ],
   "source": [
    "# others\n",
    "cn = CompletionNetwork().cuda()\n",
    "cn.load('../logs/models/cn_scrapped_weights')\n",
    "cn_optimizer = torch.optim.Adadelta(cn.parameters())\n",
    "\n",
    "discriminator = Discriminator().cuda()\n",
    "discriminator_optimizer = torch.optim.Adadelta(discriminator.parameters())\n",
    "_ = load_checkpoint(\"../logs/phase2_checkpoints/\",discriminator, discriminator_optimizer)\n",
    "discriminator_optimizer = torch.optim.Adadelta(discriminator.parameters()) # reset\n",
    "\n",
    "num_batch = 10\n",
    "replacement_val = torch.tensor([0.5062325495504219, 0.4255871700324652, 0.38299278586700136])"
   ]
  },
  {
   "cell_type": "markdown",
   "metadata": {},
   "source": [
    "# Test"
   ]
  },
  {
   "cell_type": "code",
   "execution_count": 4,
   "metadata": {},
   "outputs": [
    {
     "name": "stdout",
     "output_type": "stream",
     "text": [
      "\n",
      "### BATCH 1/10 ###\n",
      "loss: 1132.89111328125 for the completion loss, 6.556485459441319e-05 for the discriminator loss\n",
      "\n",
      "### BATCH 2/10 ###\n",
      "loss: 5045.57080078125 for the completion loss, 0.017460420727729797 for the discriminator loss\n",
      "\n",
      "### BATCH 3/10 ###\n",
      "loss: 2192.179931640625 for the completion loss, 0.0005946091841906309 for the discriminator loss\n",
      "\n",
      "### BATCH 4/10 ###\n",
      "loss: 2961.715576171875 for the completion loss, 0.003436347469687462 for the discriminator loss\n",
      "\n",
      "### BATCH 5/10 ###\n",
      "loss: 3596.602294921875 for the completion loss, 0.007216165773570538 for the discriminator loss\n",
      "\n",
      "### BATCH 6/10 ###\n",
      "loss: 2246.435546875 for the completion loss, 0.0027754181064665318 for the discriminator loss\n",
      "\n",
      "### BATCH 7/10 ###\n",
      "loss: 2410.891357421875 for the completion loss, 0.00043985299998894334 for the discriminator loss\n",
      "\n",
      "### BATCH 8/10 ###\n",
      "loss: 2315.976318359375 for the completion loss, 0.0004171373730059713 for the discriminator loss\n",
      "\n",
      "### BATCH 9/10 ###\n",
      "loss: 2318.715087890625 for the completion loss, 0.0012966420035809278 for the discriminator loss\n",
      "\n",
      "### BATCH 10/10 ###\n",
      "loss: 2369.432861328125 for the completion loss, 0.0008333539590239525 for the discriminator loss\n"
     ]
    },
    {
     "data": {
      "text/plain": [
       "[(1132.89111328125, 6.556485459441319e-05),\n",
       " (5045.57080078125, 0.017460420727729797),\n",
       " (2192.179931640625, 0.0005946091841906309),\n",
       " (2961.715576171875, 0.003436347469687462),\n",
       " (3596.602294921875, 0.007216165773570538),\n",
       " (2246.435546875, 0.0027754181064665318),\n",
       " (2410.891357421875, 0.00043985299998894334),\n",
       " (2315.976318359375, 0.0004171373730059713),\n",
       " (2318.715087890625, 0.0012966420035809278),\n",
       " (2369.432861328125, 0.0008333539590239525)]"
      ]
     },
     "execution_count": 4,
     "metadata": {},
     "output_type": "execute_result"
    }
   ],
   "source": [
    "# conjugate training\n",
    "train(\n",
    "    cn,\n",
    "    discriminator,\n",
    "    cn_optimizer,\n",
    "    discriminator_optimizer,\n",
    "    train_dataloader,\n",
    "    num_batch,\n",
    "    replacement_val,\n",
    "    )"
   ]
  }
 ],
 "metadata": {
  "kernelspec": {
   "display_name": "myenv",
   "language": "python",
   "name": "python3"
  },
  "language_info": {
   "codemirror_mode": {
    "name": "ipython",
    "version": 3
   },
   "file_extension": ".py",
   "mimetype": "text/x-python",
   "name": "python",
   "nbconvert_exporter": "python",
   "pygments_lexer": "ipython3",
   "version": "3.9.16"
  },
  "orig_nbformat": 4
 },
 "nbformat": 4,
 "nbformat_minor": 2
}
