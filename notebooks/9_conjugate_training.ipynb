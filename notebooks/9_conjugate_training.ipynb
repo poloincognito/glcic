{
 "cells": [
  {
   "cell_type": "markdown",
   "metadata": {},
   "source": [
    "# Import"
   ]
  },
  {
   "cell_type": "code",
   "execution_count": 1,
   "metadata": {},
   "outputs": [],
   "source": [
    "import torch\n",
    "import torchvision\n",
    "\n",
    "from glcic.networks.completion_network import CompletionNetwork\n",
    "from glcic.networks.discriminators import Discriminator\n",
    "from glcic.trainers.conjugate_trainer import train\n",
    "from glcic.utils import *"
   ]
  },
  {
   "cell_type": "markdown",
   "metadata": {},
   "source": [
    "# Prepare"
   ]
  },
  {
   "cell_type": "code",
   "execution_count": 2,
   "metadata": {},
   "outputs": [],
   "source": [
    "# load the dataset\n",
    "train_dataset_dir = '../data/train/'\n",
    "train_dataset = torchvision.datasets.ImageFolder(root=train_dataset_dir, transform=torchvision.transforms.ToTensor())\n",
    "train_dataloader = get_dataloader(train_dataset_dir, train_dataset_dir+\"barn/00001008.jpg\", batch_size=2)"
   ]
  },
  {
   "cell_type": "code",
   "execution_count": 3,
   "metadata": {},
   "outputs": [
    {
     "name": "stdout",
     "output_type": "stream",
     "text": [
      "Load: load_state dict from ../logs/models/cn_scrapped_weights\n"
     ]
    }
   ],
   "source": [
    "# others\n",
    "cn = CompletionNetwork().cuda()\n",
    "cn.load('../logs/models/cn_scrapped_weights')\n",
    "cn_optimizer = torch.optim.Adadelta(cn.parameters())\n",
    "\n",
    "discriminator = Discriminator().cuda()\n",
    "discriminator_optimizer = torch.optim.Adadelta(discriminator.parameters())\n",
    "_ = load_checkpoint(\"../logs/phase2_checkpoints/\",discriminator, discriminator_optimizer)\n",
    "discriminator_optimizer = torch.optim.Adadelta(discriminator.parameters()) # reset\n",
    "\n",
    "num_batch = 10\n",
    "replacement_val = torch.tensor([0.5062325495504219, 0.4255871700324652, 0.38299278586700136])"
   ]
  },
  {
   "cell_type": "markdown",
   "metadata": {},
   "source": [
    "# Test"
   ]
  },
  {
   "cell_type": "code",
   "execution_count": 4,
   "metadata": {},
   "outputs": [
    {
     "name": "stdout",
     "output_type": "stream",
     "text": [
      "\n",
      "### BATCH 1/10 ###\n",
      "mse grad norm:  46285.921875 , grad norm:  1.135998249053955\n",
      "alpha:  407.447519387262\n",
      "loss: 955.1412353515625 for the completion loss, 3.903121978510171e-05 for the discriminator loss\n",
      "\n",
      "### BATCH 2/10 ###\n",
      "mse grad norm:  604274.375 , grad norm:  1823705.25\n",
      "alpha:  403.3763576365842\n",
      "loss: 15342.25390625 for the completion loss, 323.8081359863281 for the discriminator loss\n",
      "\n",
      "### BATCH 3/10 ###\n",
      "mse grad norm:  80955.390625 , grad norm:  3.054342284770669e-18\n",
      "alpha:  2.650501583553806e+20\n",
      "loss: 23594.56640625 for the completion loss, 7785.72802734375 for the discriminator loss\n",
      "\n",
      "### BATCH 4/10 ###\n",
      "mse grad norm:  59347.2734375 , grad norm:  inf\n",
      "alpha:  2.6239965677182678e+20\n",
      "loss: 3.3484043679017803e+21 for the completion loss, 2.7234975499818023e+21 for the discriminator loss\n",
      "\n",
      "### BATCH 5/10 ###\n",
      "mse grad norm:  26782.689453125 , grad norm:  0.0\n"
     ]
    },
    {
     "ename": "ZeroDivisionError",
     "evalue": "float division by zero",
     "output_type": "error",
     "traceback": [
      "\u001b[0;31m---------------------------------------------------------------------------\u001b[0m",
      "\u001b[0;31mZeroDivisionError\u001b[0m                         Traceback (most recent call last)",
      "\u001b[1;32m/users/eleves-a/2020/paul.guillermit/glcic/notebooks/9_conjugate_training.ipynb Cell 7\u001b[0m line \u001b[0;36m2\n\u001b[1;32m      <a href='vscode-notebook-cell://ssh-remote%2Bporsche.polytechnique.fr/users/eleves-a/2020/paul.guillermit/glcic/notebooks/9_conjugate_training.ipynb#W6sdnNjb2RlLXJlbW90ZQ%3D%3D?line=0'>1</a>\u001b[0m \u001b[39m# conjugate training\u001b[39;00m\n\u001b[0;32m----> <a href='vscode-notebook-cell://ssh-remote%2Bporsche.polytechnique.fr/users/eleves-a/2020/paul.guillermit/glcic/notebooks/9_conjugate_training.ipynb#W6sdnNjb2RlLXJlbW90ZQ%3D%3D?line=1'>2</a>\u001b[0m train(\n\u001b[1;32m      <a href='vscode-notebook-cell://ssh-remote%2Bporsche.polytechnique.fr/users/eleves-a/2020/paul.guillermit/glcic/notebooks/9_conjugate_training.ipynb#W6sdnNjb2RlLXJlbW90ZQ%3D%3D?line=2'>3</a>\u001b[0m     cn,\n\u001b[1;32m      <a href='vscode-notebook-cell://ssh-remote%2Bporsche.polytechnique.fr/users/eleves-a/2020/paul.guillermit/glcic/notebooks/9_conjugate_training.ipynb#W6sdnNjb2RlLXJlbW90ZQ%3D%3D?line=3'>4</a>\u001b[0m     discriminator,\n\u001b[1;32m      <a href='vscode-notebook-cell://ssh-remote%2Bporsche.polytechnique.fr/users/eleves-a/2020/paul.guillermit/glcic/notebooks/9_conjugate_training.ipynb#W6sdnNjb2RlLXJlbW90ZQ%3D%3D?line=4'>5</a>\u001b[0m     cn_optimizer,\n\u001b[1;32m      <a href='vscode-notebook-cell://ssh-remote%2Bporsche.polytechnique.fr/users/eleves-a/2020/paul.guillermit/glcic/notebooks/9_conjugate_training.ipynb#W6sdnNjb2RlLXJlbW90ZQ%3D%3D?line=5'>6</a>\u001b[0m     discriminator_optimizer,\n\u001b[1;32m      <a href='vscode-notebook-cell://ssh-remote%2Bporsche.polytechnique.fr/users/eleves-a/2020/paul.guillermit/glcic/notebooks/9_conjugate_training.ipynb#W6sdnNjb2RlLXJlbW90ZQ%3D%3D?line=6'>7</a>\u001b[0m     train_dataloader,\n\u001b[1;32m      <a href='vscode-notebook-cell://ssh-remote%2Bporsche.polytechnique.fr/users/eleves-a/2020/paul.guillermit/glcic/notebooks/9_conjugate_training.ipynb#W6sdnNjb2RlLXJlbW90ZQ%3D%3D?line=7'>8</a>\u001b[0m     num_batch,\n\u001b[1;32m      <a href='vscode-notebook-cell://ssh-remote%2Bporsche.polytechnique.fr/users/eleves-a/2020/paul.guillermit/glcic/notebooks/9_conjugate_training.ipynb#W6sdnNjb2RlLXJlbW90ZQ%3D%3D?line=8'>9</a>\u001b[0m     replacement_val,\n\u001b[1;32m     <a href='vscode-notebook-cell://ssh-remote%2Bporsche.polytechnique.fr/users/eleves-a/2020/paul.guillermit/glcic/notebooks/9_conjugate_training.ipynb#W6sdnNjb2RlLXJlbW90ZQ%3D%3D?line=9'>10</a>\u001b[0m     )\n",
      "File \u001b[0;32m~/glcic/lib/glcic/trainers/conjugate_trainer.py:109\u001b[0m, in \u001b[0;36mtrain\u001b[0;34m(cn, discriminator, cn_optimizer, discriminator_optimizer, dataloader, num_batch, replacement_val, info)\u001b[0m\n\u001b[1;32m    107\u001b[0m grad1_norm, grad2_norm \u001b[39m=\u001b[39m get_grad_norm(grad1), get_grad_norm(grad2)\n\u001b[1;32m    108\u001b[0m \u001b[39mprint\u001b[39m(\u001b[39m\"\u001b[39m\u001b[39mmse grad norm: \u001b[39m\u001b[39m\"\u001b[39m, grad1_norm, \u001b[39m\"\u001b[39m\u001b[39m, grad norm: \u001b[39m\u001b[39m\"\u001b[39m, grad2_norm)\n\u001b[0;32m--> 109\u001b[0m alpha \u001b[39m=\u001b[39m update_moving_average(alpha, grad1_norm \u001b[39m/\u001b[39;49m grad2_norm, \u001b[39m0.99\u001b[39m)\n\u001b[1;32m    110\u001b[0m \u001b[39mprint\u001b[39m(\u001b[39m\"\u001b[39m\u001b[39malpha: \u001b[39m\u001b[39m\"\u001b[39m, alpha)\n\u001b[1;32m    111\u001b[0m manually_update_grad(cn\u001b[39m.\u001b[39mparameters(), grad1, grad2)\n",
      "\u001b[0;31mZeroDivisionError\u001b[0m: float division by zero"
     ]
    }
   ],
   "source": [
    "# conjugate training\n",
    "train(\n",
    "    cn,\n",
    "    discriminator,\n",
    "    cn_optimizer,\n",
    "    discriminator_optimizer,\n",
    "    train_dataloader,\n",
    "    num_batch,\n",
    "    replacement_val,\n",
    "    )"
   ]
  }
 ],
 "metadata": {
  "kernelspec": {
   "display_name": "myenv",
   "language": "python",
   "name": "python3"
  },
  "language_info": {
   "codemirror_mode": {
    "name": "ipython",
    "version": 3
   },
   "file_extension": ".py",
   "mimetype": "text/x-python",
   "name": "python",
   "nbconvert_exporter": "python",
   "pygments_lexer": "ipython3",
   "version": "3.9.16"
  },
  "orig_nbformat": 4
 },
 "nbformat": 4,
 "nbformat_minor": 2
}
