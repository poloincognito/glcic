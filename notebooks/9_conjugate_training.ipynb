{
 "cells": [
  {
   "cell_type": "markdown",
   "metadata": {},
   "source": [
    "# Import"
   ]
  },
  {
   "cell_type": "code",
   "execution_count": 1,
   "metadata": {},
   "outputs": [],
   "source": [
    "import torch\n",
    "import torchvision\n",
    "\n",
    "from glcic.networks.completion_network import CompletionNetwork\n",
    "from glcic.networks.discriminators import Discriminator\n",
    "from glcic.trainers.conjugate_trainer import train\n",
    "from glcic.utils import *"
   ]
  },
  {
   "cell_type": "markdown",
   "metadata": {},
   "source": [
    "# Prepare"
   ]
  },
  {
   "cell_type": "code",
   "execution_count": 2,
   "metadata": {},
   "outputs": [],
   "source": [
    "# load the dataset\n",
    "train_dataset_dir = '../data/train/'\n",
    "train_dataset = torchvision.datasets.ImageFolder(root=train_dataset_dir, transform=torchvision.transforms.ToTensor())\n",
    "train_dataloader = get_dataloader(train_dataset_dir, train_dataset_dir+\"barn/00001008.jpg\", batch_size=48)"
   ]
  },
  {
   "cell_type": "code",
   "execution_count": 3,
   "metadata": {},
   "outputs": [
    {
     "name": "stdout",
     "output_type": "stream",
     "text": [
      "Load: load_state dict from ../logs/models/cn_scrapped_weights\n"
     ]
    }
   ],
   "source": [
    "# others\n",
    "cn = CompletionNetwork().cuda()\n",
    "cn.load('../logs/models/cn_scrapped_weights')\n",
    "cn_optimizer = torch.optim.Adadelta(cn.parameters())\n",
    "\n",
    "discriminator = Discriminator().cuda()\n",
    "discriminator_optimizer = torch.optim.Adadelta(discriminator.parameters())\n",
    "_ = load_checkpoint(\"../logs/phase2_checkpoints/\",discriminator, discriminator_optimizer)\n",
    "discriminator_optimizer = torch.optim.Adadelta(discriminator.parameters()) # reset\n",
    "\n",
    "num_batch = 10\n",
    "replacement_val = torch.tensor([0.5062325495504219, 0.4255871700324652, 0.38299278586700136])"
   ]
  },
  {
   "cell_type": "markdown",
   "metadata": {},
   "source": [
    "# Test"
   ]
  },
  {
   "cell_type": "code",
   "execution_count": 4,
   "metadata": {},
   "outputs": [
    {
     "name": "stdout",
     "output_type": "stream",
     "text": [
      "\n",
      "### BATCH 1/10 ###\n"
     ]
    },
    {
     "name": "stdout",
     "output_type": "stream",
     "text": [
      "loss: 1042.5010986328125 for the completion loss, 0.0005522951250895858 for the discriminator loss\n",
      "\n",
      "### BATCH 2/10 ###\n",
      "loss: 119210.3671875 for the completion loss, 28712.76953125 for the discriminator loss\n",
      "\n",
      "### BATCH 3/10 ###\n",
      "loss: 12782.533203125 for the completion loss, 21885.021484375 for the discriminator loss\n",
      "\n",
      "### BATCH 4/10 ###\n",
      "loss: 166749.9375 for the completion loss, 69163.796875 for the discriminator loss\n",
      "\n",
      "### BATCH 5/10 ###\n",
      "loss: 82347.609375 for the completion loss, 36488.37890625 for the discriminator loss\n",
      "\n",
      "### BATCH 6/10 ###\n",
      "loss: 55443.890625 for the completion loss, 64942.6640625 for the discriminator loss\n",
      "\n",
      "### BATCH 7/10 ###\n",
      "loss: 84100.6484375 for the completion loss, 23785.248046875 for the discriminator loss\n",
      "\n",
      "### BATCH 8/10 ###\n",
      "loss: 56517.74609375 for the completion loss, 53198.38671875 for the discriminator loss\n",
      "\n",
      "### BATCH 9/10 ###\n",
      "loss: 67209.859375 for the completion loss, 75308.828125 for the discriminator loss\n",
      "\n",
      "### BATCH 10/10 ###\n",
      "loss: 48940.46484375 for the completion loss, 50249.453125 for the discriminator loss\n"
     ]
    }
   ],
   "source": [
    "# conjugate training\n",
    "loss = train(\n",
    "    cn,\n",
    "    discriminator,\n",
    "    cn_optimizer,\n",
    "    discriminator_optimizer,\n",
    "    train_dataloader,\n",
    "    num_batch,\n",
    "    replacement_val,\n",
    "    )"
   ]
  },
  {
   "cell_type": "code",
   "execution_count": 6,
   "metadata": {},
   "outputs": [],
   "source": [
    "# results\n",
    "resume_path = \"../data/train/barn/00001008.jpg\"\n",
    "\n",
    "save_conjugate_checkpoint(\n",
    "    \"../logs/phase3_checkpoints/\",\n",
    "    [cn,discriminator],\n",
    "    [cn_optimizer, discriminator_optimizer],\n",
    "    [loss],\n",
    "    10,\n",
    "    resume_path,\n",
    "    replacement_val\n",
    ")"
   ]
  }
 ],
 "metadata": {
  "kernelspec": {
   "display_name": "myenv",
   "language": "python",
   "name": "python3"
  },
  "language_info": {
   "codemirror_mode": {
    "name": "ipython",
    "version": 3
   },
   "file_extension": ".py",
   "mimetype": "text/x-python",
   "name": "python",
   "nbconvert_exporter": "python",
   "pygments_lexer": "ipython3",
   "version": "3.9.16"
  },
  "orig_nbformat": 4
 },
 "nbformat": 4,
 "nbformat_minor": 2
}
