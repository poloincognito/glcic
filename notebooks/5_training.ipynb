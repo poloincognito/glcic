{
 "cells": [
  {
   "cell_type": "markdown",
   "metadata": {},
   "source": [
    "# Purpose\n",
    "This notebook tests the naive training of the the completion network."
   ]
  },
  {
   "cell_type": "markdown",
   "metadata": {},
   "source": [
    "# Import"
   ]
  },
  {
   "cell_type": "code",
   "execution_count": 1,
   "metadata": {},
   "outputs": [],
   "source": [
    "import torch\n",
    "import torchvision\n",
    "\n",
    "from glic.networks.completion_network import CompletionNetwork\n",
    "from glic.training.cn_training import train_cn"
   ]
  },
  {
   "cell_type": "markdown",
   "metadata": {},
   "source": [
    "# Train"
   ]
  },
  {
   "cell_type": "code",
   "execution_count": 2,
   "metadata": {},
   "outputs": [],
   "source": [
    "# load the dataset\n",
    "train_dataset_dir = '../data/train/'\n",
    "train_dataset = torchvision.datasets.ImageFolder(root=train_dataset_dir, transform=torchvision.transforms.ToTensor())\n",
    "train_dataloader = torch.utils.data.DataLoader(train_dataset, batch_size=4, shuffle=False)"
   ]
  },
  {
   "cell_type": "code",
   "execution_count": 3,
   "metadata": {},
   "outputs": [],
   "source": [
    "# others\n",
    "cn = CompletionNetwork()\n",
    "optimizer = torch.optim.Adadelta(cn.parameters(), lr=2e-4)\n",
    "num_batch = 10\n",
    "replacement_val = torch.rand(3)"
   ]
  },
  {
   "cell_type": "code",
   "execution_count": 4,
   "metadata": {},
   "outputs": [
    {
     "name": "stdout",
     "output_type": "stream",
     "text": [
      "\n",
      "BATCH 0: \n"
     ]
    },
    {
     "ename": "TypeError",
     "evalue": "'DataLoader' object is not an iterator",
     "output_type": "error",
     "traceback": [
      "\u001b[1;31m---------------------------------------------------------------------------\u001b[0m",
      "\u001b[1;31mTypeError\u001b[0m                                 Traceback (most recent call last)",
      "\u001b[1;32mc:\\Users\\Paul\\Documents\\Projets\\glic\\notebooks\\5_training.ipynb Cell 7\u001b[0m line \u001b[0;36m1\n\u001b[1;32m----> <a href='vscode-notebook-cell:/c%3A/Users/Paul/Documents/Projets/glic/notebooks/5_training.ipynb#W5sZmlsZQ%3D%3D?line=0'>1</a>\u001b[0m _ \u001b[39m=\u001b[39m train_cn(cn, optimizer, train_dataloader, num_batch, replacement_val)\n",
      "File \u001b[1;32mc:\\users\\paul\\documents\\projets\\glic\\lib\\glic\\training\\cn_training.py:24\u001b[0m, in \u001b[0;36mtrain_cn\u001b[1;34m(cn, optimizer, dataloader, num_batch, replacement_val)\u001b[0m\n\u001b[0;32m     21\u001b[0m optimizer\u001b[39m.\u001b[39mzero_grad()\n\u001b[0;32m     23\u001b[0m \u001b[39m# load batch\u001b[39;00m\n\u001b[1;32m---> 24\u001b[0m initial_batch \u001b[39m=\u001b[39m \u001b[39mnext\u001b[39;49m(dataloader)[\u001b[39m0\u001b[39m]\n\u001b[0;32m     25\u001b[0m initial_batch\u001b[39m.\u001b[39mcuda()\n\u001b[0;32m     27\u001b[0m \u001b[39m# mask\u001b[39;00m\n",
      "\u001b[1;31mTypeError\u001b[0m: 'DataLoader' object is not an iterator"
     ]
    }
   ],
   "source": [
    "_ = train_cn(cn, optimizer, iter(train_dataloader), num_batch, replacement_val)"
   ]
  }
 ],
 "metadata": {
  "kernelspec": {
   "display_name": "myenv",
   "language": "python",
   "name": "python3"
  },
  "language_info": {
   "codemirror_mode": {
    "name": "ipython",
    "version": 3
   },
   "file_extension": ".py",
   "mimetype": "text/x-python",
   "name": "python",
   "nbconvert_exporter": "python",
   "pygments_lexer": "ipython3",
   "version": "3.10.9"
  },
  "orig_nbformat": 4
 },
 "nbformat": 4,
 "nbformat_minor": 2
}
